{
 "cells": [
  {
   "cell_type": "markdown",
   "id": "082a650c-fe51-49c9-b16f-9663b7d5ae84",
   "metadata": {},
   "source": [
    "# 1. Frame the problem\n",
    "#### Create an AI that will be able to play the clssic puzzle game \"tetris\", surviving for as long as possible.\n",
    "- The game has a 10 block long, 20 block high board\n",
    "- There are 6 different pieces, each one being composed of 4 blocks: line, z, flipped z, square, L, flipped L\n",
    "- You are able to rotate all pieces to any one of 4 orientations\n",
    "- The goal of the game is to clear as many lines as possible without \"topping out\", meaning that your blocks eventually stack over a certain height limit, causing you to lose.\n",
    "- You are given a piece completely randomly every time, meaning that being given a fatal set of pieces is possible but rare (the worst possible set of pieces is actually surviveable until about 30 lines are cleared assuming you play perfectly)\n",
    "- Some other modes of the game exist such as a timed 40 lines mode, but for the purposes of this model we are using the \"endless\" mode, with the goal of surviving as long as possible and clearing as many lines as possible"
   ]
  },
  {
   "cell_type": "markdown",
   "id": "bea71453-4032-470b-817a-6dc9da26402b",
   "metadata": {},
   "source": [
    "# 2. Get the Data\n",
    "- This step is very different in this case compared to previous projects due to the nature of the model, which is meant to train on a zero sum game that runs in real time and has no static data or consistent pattern to follow due to the randomness of the pieces\n",
    "- Since this model is meant to play tetris in real time and does not have any true \"database\" to train on, \"getting\" the data involves playing the game multiple times and getting the data of each game, so basically reinforcing your model in real time.\n",
    "#### How the model actually plays the game\n",
    "- I was provided with an already made tetris game framework, so that I wouldn't have to code an entire tetris game myself.\n",
    "- As opposed to loading some data from a file or source, we are instead providing the model with information about the instantaneous state of a tetris game at all times. (By state I mean like \"piece\" or \"turn\")\n",
    "- The model isn't going to make decisions based off the results of an entire game, but instead going to treat each and every single piece as its own seperate case with no regard for the previous or next piece.\n",
    "- The specific information we give the model to make an instantaneous decision is an array with\n",
    "- it will then output which of the specific moves r best\n",
    "#### How the model is trained\n",
    "- Although the model only considers the board at an instantaneous state, the actual training of the model requires some more information: the result of several different games"
   ]
  },
  {
   "cell_type": "markdown",
   "id": "9c526168-bbf6-4fc8-b638-2d60524811e2",
   "metadata": {},
   "source": [
    "# 3. Explore the Data\n",
    "- Since there is no \"database\" of data, there is no concrete way to explore the data we will be feeding the algorithm, although it is possible to gain familiarity with the game in 2 ways:\n",
    "#### Playing the game\n",
    "    - By playing the game of tetris, whether it be using the player mode of the given tetris framework or maybe using a more refined version on the web, you begin to understand what moves are best, which can help you conceptualize what features to give a genetic algorithm when it comes to how the algorithm will make decisions based on weights.\n",
    "#### Exploring the given repository\n",
    "    - Although this isn't really exploring the data of the game itself, it is still important to get familiar with the framework to understand how to utilize it.\n",
    "    - The frameworks comes with several pre-made models that you can test and also use as a base for your own implementation of a model. These models are:\n",
    "        - A genetic algorithm (that does very poorly but provides useful insight to how a genetic algorithm is meant to be implemented and can be used as a reference for our genetic algorithm that will be implemented)\n",
    "        - A random algorithm (that understandably does very poorly)\n",
    "        - A Monte Carlo tree search algorithm (that does very poorly)\n",
    "        - A greedy algorithm (that does really well but isn't really considered a machine learning algorithm, meaning we can't make our own)\n",
    "    - After having tested these algorithms, it is also useful to explore the structure of the framework. There is a board.py that handles the state of the entire tetris board, a piece.py that handles a piece object for the currently falling piece in the game at any time, and a game.py that "
   ]
  },
  {
   "cell_type": "markdown",
   "id": "0d2e8b48-392e-42a2-bb08-54cdc50c503a",
   "metadata": {},
   "source": [
    "# 4. Prepare the Data\n",
    "- There is no data preparation to be done, since the data is not concrete and in a database. The instantaneous board data is already given in an organized format to the AI each time it is referenced."
   ]
  },
  {
   "cell_type": "markdown",
   "id": "88482e96-571b-4d60-a1c5-fab4d1a8147f",
   "metadata": {},
   "source": [
    "# 5. Model the data\n",
    "- After having read the paper about tetris AI algorithms included with the tetris game framework and also researching for several hours online about the mathematical/AI implications of tetris, I decided that my best course of action would be to create a genetic algorithm that makes decisions based on weights of "
   ]
  }
 ],
 "metadata": {
  "kernelspec": {
   "display_name": "Python 3 (ipykernel)",
   "language": "python",
   "name": "python3"
  },
  "language_info": {
   "codemirror_mode": {
    "name": "ipython",
    "version": 3
   },
   "file_extension": ".py",
   "mimetype": "text/x-python",
   "name": "python",
   "nbconvert_exporter": "python",
   "pygments_lexer": "ipython3",
   "version": "3.10.10"
  },
  "widgets": {
   "application/vnd.jupyter.widget-state+json": {
    "state": {},
    "version_major": 2,
    "version_minor": 0
   }
  }
 },
 "nbformat": 4,
 "nbformat_minor": 5
}
